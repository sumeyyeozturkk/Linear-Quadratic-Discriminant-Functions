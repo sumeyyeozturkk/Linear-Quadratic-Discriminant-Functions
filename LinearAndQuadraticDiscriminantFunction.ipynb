{
  "nbformat": 4,
  "nbformat_minor": 0,
  "metadata": {
    "colab": {
      "name": "LinearAndQuadraticDiscriminantFunction.ipynb",
      "provenance": [],
      "collapsed_sections": []
    },
    "kernelspec": {
      "name": "python3",
      "display_name": "Python 3"
    }
  },
  "cells": [
    {
      "cell_type": "code",
      "metadata": {
        "id": "xCVBIEDaMh7b"
      },
      "source": [
        "import pandas as pd\n",
        "import numpy as np\n",
        "import matplotlib.pyplot as plt\n",
        "import seaborn as sns\n",
        "from scipy import linalg\n",
        "from numpy.linalg import multi_dot\n",
        "import warnings\n",
        "\n",
        "warnings.filterwarnings('ignore')"
      ],
      "execution_count": null,
      "outputs": []
    },
    {
      "cell_type": "code",
      "metadata": {
        "colab": {
          "base_uri": "https://localhost:8080/",
          "height": 204
        },
        "id": "G98AsvguM1pD",
        "outputId": "d028e249-c362-4171-94ec-901c6a4c6cb8"
      },
      "source": [
        "#Read Data\n",
        "data = pd.read_csv('/content/data.csv')\n",
        "data.drop('Unnamed: 0',axis = 1,inplace = True)\n",
        "data.head()"
      ],
      "execution_count": null,
      "outputs": [
        {
          "output_type": "execute_result",
          "data": {
            "text/html": [
              "<div>\n",
              "<style scoped>\n",
              "    .dataframe tbody tr th:only-of-type {\n",
              "        vertical-align: middle;\n",
              "    }\n",
              "\n",
              "    .dataframe tbody tr th {\n",
              "        vertical-align: top;\n",
              "    }\n",
              "\n",
              "    .dataframe thead th {\n",
              "        text-align: right;\n",
              "    }\n",
              "</style>\n",
              "<table border=\"1\" class=\"dataframe\">\n",
              "  <thead>\n",
              "    <tr style=\"text-align: right;\">\n",
              "      <th></th>\n",
              "      <th>x</th>\n",
              "      <th>y</th>\n",
              "      <th>label</th>\n",
              "    </tr>\n",
              "  </thead>\n",
              "  <tbody>\n",
              "    <tr>\n",
              "      <th>0</th>\n",
              "      <td>-0.975749</td>\n",
              "      <td>2.465522</td>\n",
              "      <td>0.0</td>\n",
              "    </tr>\n",
              "    <tr>\n",
              "      <th>1</th>\n",
              "      <td>-0.907734</td>\n",
              "      <td>0.970229</td>\n",
              "      <td>0.0</td>\n",
              "    </tr>\n",
              "    <tr>\n",
              "      <th>2</th>\n",
              "      <td>-0.687242</td>\n",
              "      <td>1.831973</td>\n",
              "      <td>0.0</td>\n",
              "    </tr>\n",
              "    <tr>\n",
              "      <th>3</th>\n",
              "      <td>-1.482991</td>\n",
              "      <td>1.091349</td>\n",
              "      <td>0.0</td>\n",
              "    </tr>\n",
              "    <tr>\n",
              "      <th>4</th>\n",
              "      <td>-1.599863</td>\n",
              "      <td>0.089690</td>\n",
              "      <td>0.0</td>\n",
              "    </tr>\n",
              "  </tbody>\n",
              "</table>\n",
              "</div>"
            ],
            "text/plain": [
              "          x         y  label\n",
              "0 -0.975749  2.465522    0.0\n",
              "1 -0.907734  0.970229    0.0\n",
              "2 -0.687242  1.831973    0.0\n",
              "3 -1.482991  1.091349    0.0\n",
              "4 -1.599863  0.089690    0.0"
            ]
          },
          "metadata": {
            "tags": []
          },
          "execution_count": 2
        }
      ]
    },
    {
      "cell_type": "markdown",
      "metadata": {
        "id": "2_mzjdmGN2Aa"
      },
      "source": [
        "# QUESTION 1\n",
        "\n",
        "Examine the data.\n",
        "\n",
        "*   The number of features, the number of classes and their probabilities P(Ci).\n",
        "*   Plot the data in a scatter plot using different colors for each class.\n",
        "*   Partition the data into training (80%) and evaluation set (20%) randomly.\n",
        "*   Compute the mean vector and covariance matrix for each class from the training set.\n"
      ]
    },
    {
      "cell_type": "markdown",
      "metadata": {
        "id": "7QkGAK9COdC3"
      },
      "source": [
        "## ITEM 1\n",
        "\n",
        "The number of features, the number of classes and their probabilities $P(C_i)$."
      ]
    },
    {
      "cell_type": "code",
      "metadata": {
        "colab": {
          "base_uri": "https://localhost:8080/"
        },
        "id": "ZpKwiES2QtZe",
        "outputId": "7fbf309f-c1c0-4684-9916-fcb06c84d12e"
      },
      "source": [
        "data.columns"
      ],
      "execution_count": null,
      "outputs": [
        {
          "output_type": "execute_result",
          "data": {
            "text/plain": [
              "Index(['x', 'y', 'label'], dtype='object')"
            ]
          },
          "metadata": {
            "tags": []
          },
          "execution_count": 3
        }
      ]
    },
    {
      "cell_type": "markdown",
      "metadata": {
        "id": "3MdMcjBjP80Z"
      },
      "source": [
        "We have 2 features **x** and **y**.\n",
        "\n"
      ]
    },
    {
      "cell_type": "code",
      "metadata": {
        "colab": {
          "base_uri": "https://localhost:8080/"
        },
        "id": "tGGLTeKzOuT9",
        "outputId": "92ff1e29-84a1-46db-cab7-42583a93dfba"
      },
      "source": [
        "data['label'].value_counts()"
      ],
      "execution_count": null,
      "outputs": [
        {
          "output_type": "execute_result",
          "data": {
            "text/plain": [
              "1.0    400\n",
              "0.0    200\n",
              "Name: label, dtype: int64"
            ]
          },
          "metadata": {
            "tags": []
          },
          "execution_count": 4
        }
      ]
    },
    {
      "cell_type": "markdown",
      "metadata": {
        "id": "N-i5UY6gRLhv"
      },
      "source": [
        "We have 2 classes **1** and **0**."
      ]
    },
    {
      "cell_type": "markdown",
      "metadata": {
        "id": "b3EUhUJKRr7q"
      },
      "source": [
        "$P(C_i)$ = #$C_i /N$ \n",
        "\n",
        "\n",
        "*   $P(C_i)$ For class **0**: $P(C_0) =$ # $C_0/N $ \n",
        "*   $P(C_i)$ For class **1**: $P(C_1) =$ # $C_1/N $ \n"
      ]
    },
    {
      "cell_type": "code",
      "metadata": {
        "id": "aWlHMBa7Q5Uh"
      },
      "source": [
        "no_c0 = data['label'].value_counts()[0] # Number of Class 0\n",
        "no_c1 = data['label'].value_counts()[1] # Number of Class 1\n",
        "N = data.shape[0] # Number of data samples"
      ],
      "execution_count": null,
      "outputs": []
    },
    {
      "cell_type": "code",
      "metadata": {
        "colab": {
          "base_uri": "https://localhost:8080/"
        },
        "id": "KyKQI_AfTPiL",
        "outputId": "9d4432db-3d70-424b-b30f-558beb63f018"
      },
      "source": [
        "c0_prob = no_c0 / N\n",
        "c1_prob = no_c1 / N\n",
        "\n",
        "print(\"Probability of Class 0: {}\".format(c0_prob))\n",
        "print(\"Probability of Class 1: {}\".format(c1_prob))"
      ],
      "execution_count": null,
      "outputs": [
        {
          "output_type": "stream",
          "text": [
            "Probability of Class 0: 0.3333333333333333\n",
            "Probability of Class 1: 0.6666666666666666\n"
          ],
          "name": "stdout"
        }
      ]
    },
    {
      "cell_type": "markdown",
      "metadata": {
        "id": "r2OINyGDViNS"
      },
      "source": [
        "## ITEM 2\n",
        "\n",
        "Plot the data in a scatter plot using different colors for each class."
      ]
    },
    {
      "cell_type": "code",
      "metadata": {
        "colab": {
          "base_uri": "https://localhost:8080/",
          "height": 296
        },
        "id": "tPuHrXeQUYH9",
        "outputId": "c1f23947-0cd9-4591-c02a-fc56208b6af8"
      },
      "source": [
        "sns.scatterplot('x', 'y', data=data, hue='label')\n",
        "\n",
        "plt.xlabel(\"x1\")\n",
        "plt.ylabel(\"x2\")"
      ],
      "execution_count": null,
      "outputs": [
        {
          "output_type": "execute_result",
          "data": {
            "text/plain": [
              "Text(0, 0.5, 'x2')"
            ]
          },
          "metadata": {
            "tags": []
          },
          "execution_count": 7
        },
        {
          "output_type": "display_data",
          "data": {
            "image/png": "[encoded data removed]",
            "text/plain": [
              "<Figure size 432x288 with 1 Axes>"
            ]
          },
          "metadata": {
            "tags": [],
            "needs_background": "light"
          }
        }
      ]
    },
    {
      "cell_type": "markdown",
      "metadata": {
        "id": "O82gWH87b1oB"
      },
      "source": [
        "## ITEM 3\n",
        "\n",
        "Partition the data into training (80%) and evaluation set (20%) randomly."
      ]
    },
    {
      "cell_type": "code",
      "metadata": {
        "id": "a11ZnLFMYPEI",
        "colab": {
          "base_uri": "https://localhost:8080/"
        },
        "outputId": "ec2aaa52-7349-4599-ebe7-fe0f0d37ffcc"
      },
      "source": [
        "from sklearn.model_selection import train_test_split\n",
        "\n",
        "x = data.loc[:,['x','y']]\n",
        "y = data.label\n",
        "\n",
        "x_train, x_test, y_train, y_test = train_test_split(x, y, test_size = 0.2, random_state=2020)\n",
        "x_train.shape, x_test.shape"
      ],
      "execution_count": null,
      "outputs": [
        {
          "output_type": "execute_result",
          "data": {
            "text/plain": [
              "((480, 2), (120, 2))"
            ]
          },
          "metadata": {
            "tags": []
          },
          "execution_count": 8
        }
      ]
    },
    {
      "cell_type": "markdown",
      "metadata": {
        "id": "cOOgyYAOG7g1"
      },
      "source": [
        "## ITEM 4\n",
        "\n",
        "Compute the mean vector and covariance matrix for each class from the training set.\n",
        "\n",
        "\n",
        "\n",
        "1.   Mean Vector\n",
        "\n",
        ">$m_i=  \\frac{1}{N_i}\\sum_{j=1}^{N_i} x_{i,j}$  where $x_{i,j}$ is sample j from class i, and $N_i$ is the number of training samples from class i\n",
        "\n",
        "\n",
        "2.   Covariance Matrix S\n",
        "\n",
        "$S: s_{ij} = \\frac{\\sum_{t=1}^{N} (x_i^t-m_i)(x_j^t-m_j)}{N}$\n",
        "\n",
        "\n"
      ]
    },
    {
      "cell_type": "code",
      "metadata": {
        "colab": {
          "base_uri": "https://localhost:8080/",
          "height": 111
        },
        "id": "Yhyw6RS5ZV1G",
        "outputId": "786ef71e-e66a-41ea-a2fd-72aaa1463608"
      },
      "source": [
        "#Compute the mean vectors for each class\n",
        "\n",
        "train_data = pd.concat([x_train,y_train],axis = 1)\n",
        "class_feature_means = pd.DataFrame()\n",
        "\n",
        "for c, rows in train_data.groupby('label'):\n",
        "    class_feature_means[c] = rows.mean()\n",
        "\n",
        "class_feature_means.drop(['label'],axis = 0,inplace=True)\n",
        "class_feature_means"
      ],
      "execution_count": null,
      "outputs": [
        {
          "output_type": "execute_result",
          "data": {
            "text/html": [
              "<div>\n",
              "<style scoped>\n",
              "    .dataframe tbody tr th:only-of-type {\n",
              "        vertical-align: middle;\n",
              "    }\n",
              "\n",
              "    .dataframe tbody tr th {\n",
              "        vertical-align: top;\n",
              "    }\n",
              "\n",
              "    .dataframe thead th {\n",
              "        text-align: right;\n",
              "    }\n",
              "</style>\n",
              "<table border=\"1\" class=\"dataframe\">\n",
              "  <thead>\n",
              "    <tr style=\"text-align: right;\">\n",
              "      <th></th>\n",
              "      <th>0.0</th>\n",
              "      <th>1.0</th>\n",
              "    </tr>\n",
              "  </thead>\n",
              "  <tbody>\n",
              "    <tr>\n",
              "      <th>x</th>\n",
              "      <td>-0.020470</td>\n",
              "      <td>6.059459</td>\n",
              "    </tr>\n",
              "    <tr>\n",
              "      <th>y</th>\n",
              "      <td>0.145745</td>\n",
              "      <td>0.026007</td>\n",
              "    </tr>\n",
              "  </tbody>\n",
              "</table>\n",
              "</div>"
            ],
            "text/plain": [
              "        0.0       1.0\n",
              "x -0.020470  6.059459\n",
              "y  0.145745  0.026007"
            ]
          },
          "metadata": {
            "tags": []
          },
          "execution_count": 9
        }
      ]
    },
    {
      "cell_type": "code",
      "metadata": {
        "id": "M8miUIAdTJ03"
      },
      "source": [
        "m0 = class_feature_means[0].values.reshape(2,1)\n",
        "m1 = class_feature_means[1].values.reshape(2,1)"
      ],
      "execution_count": null,
      "outputs": []
    },
    {
      "cell_type": "code",
      "metadata": {
        "colab": {
          "base_uri": "https://localhost:8080/"
        },
        "id": "Z-95dv9B5uSs",
        "outputId": "91f0b7b5-87c4-40ce-8b91-39b2d9e1799c"
      },
      "source": [
        "#Covariance Matrix for class 0\n",
        "rows0 = train_data[train_data['label'] == 0].drop(['label'],axis = 1)\n",
        "\n",
        "class0_cov_matrix = np.zeros((2,2))\n",
        "covariance_0 = np.zeros((2,2))\n",
        "\n",
        "for index, row in rows0.iterrows():\n",
        "  x = row.values.reshape(2,1)\n",
        "  covariance_0 += (x - m0).dot((x - m0).T)\n",
        "\n",
        "class0_cov_matrix += covariance_0/len(rows0)\n",
        "\n",
        "class0_cov_matrix"
      ],
      "execution_count": null,
      "outputs": [
        {
          "output_type": "execute_result",
          "data": {
            "text/plain": [
              "array([[ 0.85136583, -0.57286741],\n",
              "       [-0.57286741,  1.8883089 ]])"
            ]
          },
          "metadata": {
            "tags": []
          },
          "execution_count": 11
        }
      ]
    },
    {
      "cell_type": "code",
      "metadata": {
        "colab": {
          "base_uri": "https://localhost:8080/"
        },
        "id": "mWSfLMmY-lX5",
        "outputId": "8df66c3e-d400-467e-b684-836f086678b4"
      },
      "source": [
        "#Covariance Matrix for class 1\n",
        "\n",
        "rows1 = train_data[train_data['label'] == 1].drop(['label'],axis = 1)\n",
        "\n",
        "class1_cov_matrix = np.zeros((2,2))\n",
        "covariance_1 = np.zeros((2,2))\n",
        "\n",
        "for index, row in rows1.iterrows():\n",
        "  x = row.values.reshape(2,1)\n",
        "  covariance_1 += (x - m1).dot((x - m1).T)\n",
        "\n",
        "class1_cov_matrix += covariance_1/len(rows1)\n",
        "\n",
        "class1_cov_matrix"
      ],
      "execution_count": null,
      "outputs": [
        {
          "output_type": "execute_result",
          "data": {
            "text/plain": [
              "array([[4.55393966, 0.80551722],\n",
              "       [0.80551722, 0.41910882]])"
            ]
          },
          "metadata": {
            "tags": []
          },
          "execution_count": 12
        }
      ]
    },
    {
      "cell_type": "markdown",
      "metadata": {
        "id": "Y20_2eJk_ER6"
      },
      "source": [
        "# QUESTION 2\n",
        "\n",
        "Assume that class-conditional densities are Normal. Design a linear discriminant classifier with a shared covariance matrix using MLE estimators. Obtain the training and evaluation accuracies. Plot a contour plot that shows the decision boundary."
      ]
    },
    {
      "cell_type": "code",
      "metadata": {
        "colab": {
          "base_uri": "https://localhost:8080/"
        },
        "id": "knXi6AOxFZtf",
        "outputId": "e58e2cab-9923-4ba7-b4d9-4f5ae3d141e8"
      },
      "source": [
        "#Estimations of P(Ci)'s\n",
        "\n",
        "est_c0_prob = train_data['label'].value_counts()[0] / train_data.shape[0]\n",
        "est_c1_prob = train_data['label'].value_counts()[1] / train_data.shape[0]\n",
        "\n",
        "#Shared common sample covariance S\n",
        "\n",
        "s0 = np.dot(class0_cov_matrix,est_c0_prob)\n",
        "s1 = np.dot(class1_cov_matrix,est_c1_prob)\n",
        "S = s0+s1\n",
        "S"
      ],
      "execution_count": null,
      "outputs": [
        {
          "output_type": "execute_result",
          "data": {
            "text/plain": [
              "array([[3.30432099, 0.34031241],\n",
              "       [0.34031241, 0.91496385]])"
            ]
          },
          "metadata": {
            "tags": []
          },
          "execution_count": 80
        }
      ]
    },
    {
      "cell_type": "code",
      "metadata": {
        "id": "bdGFGzJenPHx"
      },
      "source": [
        "#Linear discriminant parameters (wi,wi0)\n",
        "\n",
        "def gi_linear_parameters(S,mi,est_class_prob):\n",
        "\n",
        "  cov_inv = linalg.inv(S)\n",
        "  w_i = np.dot(cov_inv,mi)\n",
        "  w_i0 = (-.5 * multi_dot([mi.T,cov_inv,mi])) + np.log(est_class_prob)\n",
        "\n",
        "  return w_i,w_i0\n",
        "\n",
        "#Linear discriminant function \n",
        "\n",
        "def gi_linear_disc(x_vec,S,mi,est_class_prob):\n",
        "\n",
        "  w_i,w_i0 = gi_linear_parameters(S,mi,est_class_prob)\n",
        "  gi = w_i.T.dot(np.array([x_vec]).T) + w_i0\n",
        "  \n",
        "  return gi"
      ],
      "execution_count": null,
      "outputs": []
    },
    {
      "cell_type": "code",
      "metadata": {
        "id": "28-LszsmM0SU"
      },
      "source": [
        "#Prediction function for linear discriminant\n",
        "\n",
        "def prediction(X):\n",
        "  \n",
        "  y_pred = []\n",
        "\n",
        "  for index, rows in X.iterrows():\n",
        "\n",
        "    g0 = gi_linear_disc(rows,S,m0,est_c0_prob)\n",
        "    g1 = gi_linear_disc(rows,S,m1,est_c1_prob)\n",
        "\n",
        "    if g0 < g1:\n",
        "      y_pred.append(1)\n",
        "    else:\n",
        "      y_pred.append(0)\n",
        "\n",
        "  y_pred = pd.Series(y_pred)\n",
        "\n",
        "  return y_pred"
      ],
      "execution_count": null,
      "outputs": []
    },
    {
      "cell_type": "markdown",
      "metadata": {
        "id": "oAnteNJn107N"
      },
      "source": [
        "## Accuracy for Linear Discriminant Function"
      ]
    },
    {
      "cell_type": "code",
      "metadata": {
        "colab": {
          "base_uri": "https://localhost:8080/"
        },
        "id": "_nCpTZVKo2GP",
        "outputId": "0acdf731-46e1-4770-e667-4a0361f8cc30"
      },
      "source": [
        "#Computation of  Accuracy for Linear Discriminant Function\n",
        "\n",
        "from sklearn.metrics import accuracy_score\n",
        "\n",
        "y_pred_train = prediction(x_train)\n",
        "\n",
        "y_pred_test = prediction(x_test)\n",
        "\n",
        "print(\"Accuracy score for training data {}\".format(accuracy_score(y_train, y_pred_train)))\n",
        "\n",
        "print(\"Accuracy score for test data {}\".format(accuracy_score(y_test, y_pred_test)))\n"
      ],
      "execution_count": null,
      "outputs": [
        {
          "output_type": "stream",
          "text": [
            "Accuracy score for training data 0.975\n",
            "Accuracy score for test data 0.9583333333333334\n"
          ],
          "name": "stdout"
        }
      ]
    },
    {
      "cell_type": "markdown",
      "metadata": {
        "id": "IYA0m3CD1w1m"
      },
      "source": [
        "## Contour Plot for Linear Discriminant Function\n"
      ]
    },
    {
      "cell_type": "code",
      "metadata": {
        "id": "pSzSWcC51g05"
      },
      "source": [
        "# Decision Boundary Equation Function\n",
        "def desicion_boundary_linear(X):\n",
        "  z = []\n",
        "  for rows in X:\n",
        "    g0 = gi_linear_disc(rows,S,m0,est_c0_prob)\n",
        "    g1 = gi_linear_disc(rows,S,m1,est_c1_prob)\n",
        "    z.append(g0-g1)\n",
        "  return z"
      ],
      "execution_count": null,
      "outputs": []
    },
    {
      "cell_type": "code",
      "metadata": {
        "id": "Slr6Uo9t3WuB"
      },
      "source": [
        "x1 = np.linspace(data['x'].min()-1, data['x'].max()+1, N)\n",
        "x2 = np.linspace(data['y'].min()-1, data['y'].max()+1, N)\n",
        "    \n",
        "X, Y = np.meshgrid(x1, x2)\n",
        "\n",
        "zz = np.array([X.ravel(), Y.ravel()]).T\n",
        "\n",
        "Z = desicion_boundary_linear(zz)\n",
        "\n",
        "Z = np.reshape(Z,X.shape).T"
      ],
      "execution_count": null,
      "outputs": []
    },
    {
      "cell_type": "code",
      "metadata": {
        "colab": {
          "base_uri": "https://localhost:8080/",
          "height": 279
        },
        "id": "_T-Zjid77Rfq",
        "outputId": "a599469c-e52d-46e2-e86d-28cbeebb15dc"
      },
      "source": [
        "countour_plt = plt.contourf(X, Y, Z)\n",
        "fig.colorbar(countour_plt) # Add a colorbar to a plot\n",
        "\n",
        "plt.scatter(data[data['label'] == 0]['x'], data[data['label'] == 0]['y'], marker='o', color='red', s=40, alpha=0.5)\n",
        "plt.scatter(data[data['label'] == 1]['x'], data[data['label'] == 1]['y'], marker='o', color='blue', s=40, alpha=0.5)\n",
        "\n",
        "plt.legend(['Class1 (0) : Blue', 'Class2 (1): Red'], loc='upper right') \n",
        "plt.ylabel('x2')\n",
        "plt.xlabel('x1')\n",
        "\n",
        "\n",
        "\n",
        "plt.show()"
      ],
      "execution_count": null,
      "outputs": [
        {
          "output_type": "display_data",
          "data": {
            "image/png": "[encoded data removed]",
            "text/plain": [
              "<Figure size 432x288 with 1 Axes>"
            ]
          },
          "metadata": {
            "tags": [],
            "needs_background": "light"
          }
        }
      ]
    },
    {
      "cell_type": "markdown",
      "metadata": {
        "id": "wKpkmoBmsv1P"
      },
      "source": [
        "# QUESTION 3\n",
        "\n",
        "Design a quadratic discriminant classifier using different covariance matrices instead of a linear one. Obtain the training and evaluation accuracies. Plot a contour plot that shows the decision boundary."
      ]
    },
    {
      "cell_type": "markdown",
      "metadata": {
        "id": "r5tZYM7htL3l"
      },
      "source": [
        "Covariance matrices for each class are arbitrary"
      ]
    },
    {
      "cell_type": "code",
      "metadata": {
        "id": "ArgR89imsx0a"
      },
      "source": [
        "#Quadratic discriminant parameters (wi,wi0)\n",
        "\n",
        "def gi_quadratic_parameters(s,mi,est_class_prob):\n",
        "\n",
        "  cov_inv = linalg.inv(s)\n",
        "  cov_det = linalg.det(s)\n",
        "  W_i = (-.5*cov_inv)\n",
        "  w_i = np.dot(cov_inv,mi)\n",
        "  w_i0 = (-.5 * multi_dot([mi.T,cov_inv,mi])) - (.5* np.log(cov_det)) + np.log(est_class_prob)\n",
        "\n",
        "  return W_i, w_i, w_i0\n",
        "\n",
        "#Quadratic discriminant function \n",
        "\n",
        "def gi_quadratic_disc(x_vec,s,mi,est_class_prob):\n",
        "\n",
        "  W_i, w_i,w_i0 = gi_quadratic_parameters(s,mi,est_class_prob)\n",
        "  gi = multi_dot([np.array([x_vec]),W_i,np.array([x_vec]).T]) + w_i.T.dot(np.array([x_vec]).T) + w_i0\n",
        "  \n",
        "  return gi"
      ],
      "execution_count": null,
      "outputs": []
    },
    {
      "cell_type": "code",
      "metadata": {
        "id": "T016A9PWv6QC"
      },
      "source": [
        "#Prediction function for quadratic discriminant\n",
        "\n",
        "def prediction(X):\n",
        "  \n",
        "  y_pred = []\n",
        "\n",
        "  for index, rows in X.iterrows():\n",
        "\n",
        "    g0 = gi_quadratic_disc(rows,class0_cov_matrix,m0,est_c0_prob)\n",
        "    g1 = gi_quadratic_disc(rows,class1_cov_matrix,m1,est_c1_prob)\n",
        "\n",
        "    if g0 < g1:\n",
        "      y_pred.append(1)\n",
        "    else:\n",
        "      y_pred.append(0)\n",
        "\n",
        "  y_pred = pd.Series(y_pred)\n",
        "\n",
        "  return y_pred"
      ],
      "execution_count": null,
      "outputs": []
    },
    {
      "cell_type": "markdown",
      "metadata": {
        "id": "bZsLupwTA8Bh"
      },
      "source": [
        "## Accuracy for Quadratic Discriminant Function"
      ]
    },
    {
      "cell_type": "code",
      "metadata": {
        "colab": {
          "base_uri": "https://localhost:8080/"
        },
        "id": "6wyLOWOYwKm8",
        "outputId": "3fc9db6c-ab52-43d4-c7a8-bf630471d70f"
      },
      "source": [
        "#Computation of  Accuracy for Quadratic Discriminant Function\n",
        "\n",
        "from sklearn.metrics import accuracy_score\n",
        "\n",
        "y_pred_train = prediction(x_train)\n",
        "\n",
        "y_pred_test = prediction(x_test)\n",
        "\n",
        "print(\"Accuracy score for training data {}\".format(accuracy_score(y_train, y_pred_train)))\n",
        "\n",
        "print(\"Accuracy score for test data {}\".format(accuracy_score(y_test, y_pred_test)))\n"
      ],
      "execution_count": null,
      "outputs": [
        {
          "output_type": "stream",
          "text": [
            "Accuracy score for training data 0.9875\n",
            "Accuracy score for test data 0.9583333333333334\n"
          ],
          "name": "stdout"
        }
      ]
    },
    {
      "cell_type": "markdown",
      "metadata": {
        "id": "msON0gXOA14Q"
      },
      "source": [
        "## Contour Plot for Quadratic Discriminant Funtion\n"
      ]
    },
    {
      "cell_type": "code",
      "metadata": {
        "id": "Zdmgvep5AIQH"
      },
      "source": [
        "# Decision Boundary Equation Function\n",
        "def desicion_boundary_quadratic(X):\n",
        "  z = []\n",
        "  for rows in X:\n",
        "    g0 = gi_quadratic_disc(rows,class0_cov_matrix,m0,est_c0_prob)\n",
        "    g1 = gi_quadratic_disc(rows,class1_cov_matrix,m1,est_c1_prob)\n",
        "    z.append(g0-g1)\n",
        "  return z"
      ],
      "execution_count": null,
      "outputs": []
    },
    {
      "cell_type": "code",
      "metadata": {
        "id": "RDV7ulhtlT25"
      },
      "source": [
        "x1 = np.linspace(data['x'].min()-1, data['x'].max()+1, N)\n",
        "x2 = np.linspace(data['y'].min()-1, data['y'].max()+1, N)\n",
        "    \n",
        "X, Y = np.meshgrid(x1, x2)\n",
        "\n",
        "zz = np.array([X.ravel(), Y.ravel()]).T\n",
        "\n",
        "Z = desicion_boundary_quadratic(zz)\n",
        "\n",
        "Z = np.reshape(Z,X.shape).T\n"
      ],
      "execution_count": null,
      "outputs": []
    },
    {
      "cell_type": "code",
      "metadata": {
        "colab": {
          "base_uri": "https://localhost:8080/",
          "height": 279
        },
        "id": "Ch2frbLD7dGZ",
        "outputId": "3bfeed35-53a0-409c-c6a3-6b43c14251ec"
      },
      "source": [
        "countour_plt = plt.contourf(X, Y, Z)\n",
        "fig.colorbar(countour_plt) # Add a colorbar to a plot\n",
        "\n",
        "plt.scatter(data[data['label'] == 0]['x'], data[data['label'] == 0]['y'], marker='o', color='red', s=40, alpha=0.5)\n",
        "plt.scatter(data[data['label'] == 1]['x'], data[data['label'] == 1]['y'], marker='o', color='blue', s=40, alpha=0.5)\n",
        "\n",
        "plt.legend(['Class1 (0) : Blue', 'Class2 (1): Red'], loc='upper right') \n",
        "plt.ylabel('x2')\n",
        "plt.xlabel('x1')\n",
        "\n",
        "plt.show()"
      ],
      "execution_count": null,
      "outputs": [
        {
          "output_type": "display_data",
          "data": {
            "image/png": "[encoded data removed]",
            "text/plain": [
              "<Figure size 432x288 with 1 Axes>"
            ]
          },
          "metadata": {
            "tags": [],
            "needs_background": "light"
          }
        }
      ]
    }
  ]
}